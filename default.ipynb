{
 "cells": [
  {
   "cell_type": "markdown",
   "metadata": {},
   "source": [
    "![](images/roboticsdevday.jpeg)"
   ]
  },
  {
   "cell_type": "markdown",
   "metadata": {},
   "source": [
    "\n",
    "## CREATING CUSTOM GAZEBO PLUGIN\n",
    "\n",
    "---\n",
    "#### Author Details:\n",
    "\n",
    "* ***Name: Shantanu Parab***\n",
    "* ***Email ID: shantanuparab99@gmail.com***\n",
    "* ***[LinkedIn](https://www.linkedin.com/in/shantanu-parab/)***\n",
    "* ***[Github](https://github.com/shantanuparabumd)***\n",
    "\n",
    "---\n",
    "#### Introduction\n",
    "\n",
    "The goal of this project is to understand how to write custom Gazebo plugins and integrate them with ROS. Gazebo plugins extend the capabilities of Gazebo by allowing custom behaviors and interactions. There are different types of plugins, such as Sensor Plugins, Model Plugins, and more. In this project, we will focus on designing a Model Plugin.\n",
    "\n",
    "We will use a simple example of a Conveyor Belt to design our plugin, which will help us grasp fundamental concepts like adding a plugin to a robot using URDF/SDF files. Additionally, we will integrate ROS functionalities such as topic subscription into our plugin.\n",
    "\n",
    "---\n",
    "#### Objectives\n",
    "\n",
    "***Task 1: Setting Up the Package for Plugin***\n",
    "\n",
    "How to edit the CMakeLists.txt file to build the plugin and export it to be used by other packages.\n",
    "\n",
    "***Task 2: Establishing Connection with Gazebo***\n",
    "\n",
    "Understand how to establish a connection between our custom plugin and the Gazebo simulation environment.\n",
    "\n",
    "***Task 3: Accessing Model Joints***\n",
    "\n",
    "Explore methods for accessing and manipulating the joints of a model within the Gazebo environment.\n",
    "\n",
    "***Task 4: Accessing Model and Plugin Parameters/Arguments from URDF/SDF***\n",
    "\n",
    "Learn how to retrieve and utilize parameters and arguments specified in URDF/SDF files for models and plugins.\n",
    "\n",
    "***Task 5: Moving the Joints***\n",
    "\n",
    "Implement functionality within the plugin to control and move the model's joints.\n",
    "\n",
    "***Task 6: Adding a Topic Subscription***\n",
    "\n",
    "Integrate ROS by adding a topic subscription to the plugin, enabling it to receive and respond to messages from ROS topics."
   ]
  },
  {
   "cell_type": "markdown",
   "metadata": {},
   "source": [
    "![](images/conveyor.gif)"
   ]
  },
  {
   "cell_type": "markdown",
   "metadata": {},
   "source": [
    "------------------\n",
    "### Addtional Resources\n",
    "\n",
    "1. [Gazebo API Documentation](https://osrf-distributions.s3.amazonaws.com/gazebo/api/dev/modules.html)\n",
    "2. [PIMPL Idiom C++](https://en.cppreference.com/w/cpp/language/pimpl)\n",
    "3. [Drone Plugin Gazebo](https://github.com/shantanuparabumd/drone_delivery)\n",
    "4. [Gazebo Plugin Basics](https://classic.gazebosim.org/tutorials?tut=ros_gzplugins)\n",
    "5. [How to create Gazebo plugins in ROS](https://www.youtube.com/watch?v=LRjT_1huVKY&list=PLK0b4e05Lnzah3QAIsdb0JxAY21YypdZl)"
   ]
  },
  {
   "cell_type": "markdown",
   "metadata": {},
   "source": [
    "----------------------------\n",
    "### How to Launch our Simulation\n",
    "\n"
   ]
  },
  {
   "cell_type": "markdown",
   "metadata": {},
   "source": [
    "##### Source ROS (Galactic) Environment"
   ]
  },
  {
   "cell_type": "code",
   "execution_count": null,
   "metadata": {},
   "outputs": [],
   "source": [
    "source /opt/ros/galactic/setup.bash"
   ]
  },
  {
   "cell_type": "markdown",
   "metadata": {},
   "source": [
    "##### Build your package"
   ]
  },
  {
   "cell_type": "code",
   "execution_count": null,
   "metadata": {},
   "outputs": [],
   "source": [
    "colcon build --packages-select conveyor_belt"
   ]
  },
  {
   "cell_type": "markdown",
   "metadata": {},
   "source": [
    "##### Source your workspace"
   ]
  },
  {
   "cell_type": "code",
   "execution_count": null,
   "metadata": {},
   "outputs": [],
   "source": [
    "source install/setup.bash"
   ]
  },
  {
   "cell_type": "markdown",
   "metadata": {},
   "source": [
    "###### Launch Gazebo Environment"
   ]
  },
  {
   "cell_type": "code",
   "execution_count": null,
   "metadata": {},
   "outputs": [],
   "source": [
    "ros2 launch conveyor_belt robot.launch.py"
   ]
  },
  {
   "cell_type": "markdown",
   "metadata": {},
   "source": [
    "###### Spawn an Object on the belt"
   ]
  },
  {
   "cell_type": "code",
   "execution_count": null,
   "metadata": {},
   "outputs": [],
   "source": [
    "ros2 run conveyor_belt spawn_object.py"
   ]
  },
  {
   "cell_type": "markdown",
   "metadata": {},
   "source": [
    "----------\n",
    "### Folder Structure of our Project\n",
    "\n",
    "We will have the following folder structure for our package. You will notice two files missing i.e \n",
    "1. **include/conveyor_belt/conveyor_belt_plugin.hpp**\n",
    "2. **src/conveyor_belt_plugin.cpp**\n",
    "\n",
    "\n",
    "**Expected Folder Structure**\n",
    "![](images/folder_structure.png)"
   ]
  },
  {
   "cell_type": "markdown",
   "metadata": {},
   "source": [
    "-----------------------------\n",
    "### File to be Updated\n",
    "\n",
    "Throught this demonstration we will be just working with one single file. Which is as follows\n",
    "\n",
    "**File: conveyor_belt/src/conveyor_belt_plugin.cpp**\n",
    "\n",
    "Before we move on to this file we will be making a few changes to setup as below"
   ]
  },
  {
   "cell_type": "markdown",
   "metadata": {},
   "source": [
    "*************************\n",
    "### Task 1: Setup Package for the Plugin \n",
    "\n",
    "#### Task 1.1: Create a Header File\n",
    "\n",
    "1. In the **include/conveyor_belt** folder of your package create a file named **conveyor_belt_plugin.hpp**.\n",
    "2. Add the below code to the file."
   ]
  },
  {
   "cell_type": "code",
   "execution_count": null,
   "metadata": {},
   "outputs": [],
   "source": [
    "#ifndef CONVEYOR_BELT_PLUGIN_HPP_\n",
    "#define CONVEYOR_BELT_PLUGIN_HPP_\n",
    "\n",
    "#include <gazebo/common/Plugin.hh>\n",
    "\n",
    "#include <memory>\n",
    "\n",
    "namespace gazebo\n",
    "{\n",
    "  \n",
    "  class ConveyorBeltPluginPrivate;\n",
    "\n",
    "  class ConveyorBeltPlugin : public gazebo::ModelPlugin\n",
    "  {\n",
    "  public:\n",
    "    \n",
    "    ConveyorBeltPlugin();\n",
    "\n",
    "    virtual ~ConveyorBeltPlugin();\n",
    "\n",
    "    \n",
    "    void Load(gazebo::physics::ModelPtr model, sdf::ElementPtr sdf) override;\n",
    "\n",
    "  private:\n",
    "    std::unique_ptr<ConveyorBeltPluginPrivate> impl_;\n",
    "  };\n",
    "\n",
    "  #endif  // CONVEYOR_BELT_PLUGIN_HPP_\n",
    "} // namespace gazebo\n",
    "\n"
   ]
  },
  {
   "cell_type": "markdown",
   "metadata": {},
   "source": [
    "---\n",
    "#### Task 1.2: Create a CPP (Source) File\n",
    "\n",
    "1. In the **src** folder of your package create a file named **conveyor_belt_plugin.cpp**.\n",
    "2. Add the following boiler-plate code to the file."
   ]
  },
  {
   "cell_type": "code",
   "execution_count": null,
   "metadata": {},
   "outputs": [],
   "source": [
    "#include <gazebo/physics/Model.hh>\n",
    "#include <gazebo/physics/Joint.hh>\n",
    "#include <conveyor_belt/conveyor_belt_plugin.hpp>\n",
    "#include <gazebo_ros/node.hpp>\n",
    "#include <rclcpp/rclcpp.hpp>\n",
    "#include <std_msgs/msg/bool.hpp>\n",
    "\n",
    "\n",
    "\n",
    "#include <memory>\n",
    "\n",
    "\n",
    "#define RED \"\\033[1;31m\"\n",
    "#define GREEN \"\\033[1;32m\"\n",
    "#define BLUE \"\\033[1;34m\"\n",
    "#define PURPLE \"\\033[1;35m\"\n",
    "#define ORANGE \"\\033[1;33m\"\n",
    "#define CYAN \"\\033[1;36m\"\n",
    "#define RESET \"\\033[0m\"\n",
    "\n",
    "\n",
    "namespace gazebo{\n",
    "\n",
    "\n",
    "class ConveyorBeltPluginPrivate\n",
    "{\n",
    "  \n",
    "\n",
    "};\n",
    "\n",
    "\n",
    "/**\n",
    " * @brief Construct a new Conveyor Belt Plugin:: Conveyor Belt Plugin object\n",
    " * \n",
    " */\n",
    "ConveyorBeltPlugin::ConveyorBeltPlugin()\n",
    ": impl_(std::make_unique<ConveyorBeltPluginPrivate>())\n",
    "{\n",
    "  std::cout << GREEN<<\"Initialized the Conveyor Belt Plugin\" <<RESET << std::endl;\n",
    "}\n",
    "\n",
    "/**\n",
    " * @brief Destroy the Conveyor Belt Plugin:: Conveyor Belt Plugin object\n",
    " * \n",
    " */\n",
    "ConveyorBeltPlugin::~ConveyorBeltPlugin()\n",
    "{\n",
    "    std::cout << RED<<\"Destroyed the Conveyor Belt Plugin\" <<RESET << std::endl;\n",
    "}\n",
    "\n",
    "\n",
    "/**\n",
    " * @brief Load the SDF/URDF model of the robot and access the links/joints.\n",
    " * \n",
    " * @param model \n",
    " * @param sdf \n",
    " */\n",
    "void ConveyorBeltPlugin::Load(gazebo::physics::ModelPtr model, sdf::ElementPtr sdf)\n",
    "{\n",
    "    \n",
    "\n",
    "\n",
    "}\n",
    "\n",
    "// Register this plugin with the simulator\n",
    "GZ_REGISTER_MODEL_PLUGIN(ConveyorBeltPlugin)\n",
    "\n",
    "}"
   ]
  },
  {
   "cell_type": "markdown",
   "metadata": {},
   "source": [
    "---\n",
    "#### Task 1.3: Update the CMakeLists.txt file\n",
    "\n",
    "1. Add the below code to the **CMkaeLists.txt** file to make the package recognize the plugin and also export it so that it can be used with other packages as well"
   ]
  },
  {
   "cell_type": "code",
   "execution_count": null,
   "metadata": {},
   "outputs": [],
   "source": [
    "add_library(conveyor_belt_plugin SHARED\n",
    "  src/conveyor_belt_plugin.cpp\n",
    ")\n",
    "target_include_directories(conveyor_belt_plugin PUBLIC include)\n",
    "ament_target_dependencies(conveyor_belt_plugin\n",
    "  \"gazebo_ros\"\n",
    ")\n",
    "ament_export_libraries(conveyor_belt_plugin)\n",
    "\n",
    "\n",
    "install(TARGETS\n",
    "    conveyor_belt_plugin\n",
    "  ARCHIVE DESTINATION lib\n",
    "  LIBRARY DESTINATION lib\n",
    "  RUNTIME DESTINATION bin)"
   ]
  },
  {
   "cell_type": "markdown",
   "metadata": {},
   "source": [
    "---\n",
    "#### Task 1.4: Add the Plugin to robot XACRO\n",
    "\n",
    "1. In the **urdf** folder update the **conveyor_belt.urdf.xacro** file, add the following code before the last **</robot>** tag.\n"
   ]
  },
  {
   "cell_type": "code",
   "execution_count": null,
   "metadata": {},
   "outputs": [],
   "source": [
    "<gazebo>\n",
    "  <plugin filename=\"libconveyor_belt_plugin.so\" name=\"conveyor_belt_plugin\">\n",
    "        <max_velocity>0.3</max_velocity> \n",
    "  </plugin>\n",
    "</gazebo>"
   ]
  },
  {
   "cell_type": "markdown",
   "metadata": {},
   "source": [
    "---\n",
    "#### Task 1.5: Build and verify\n",
    "\n",
    "1. Build the package, source the workspace and launch the Gazebo environment"
   ]
  },
  {
   "cell_type": "code",
   "execution_count": null,
   "metadata": {
    "scrolled": true
   },
   "outputs": [],
   "source": [
    "colcon build --packages-select conveyor_belt\n",
    "source install/setup.bash\n",
    "ros2 launch conveyor_belt robot.launch.py"
   ]
  },
  {
   "cell_type": "markdown",
   "metadata": {},
   "source": [
    "**Expected Output**\n",
    "![](images/init_and_load.png)\n"
   ]
  },
  {
   "cell_type": "markdown",
   "metadata": {},
   "source": [
    "You can also verify the plugin being generated in your workspace in the **ros2_workspace/install/conveyor_belt/lib** folder. This is the name of plugin that we use while using it in the XACRO.\n",
    "\n",
    "**Refer the below expected output**\n",
    "![](images/lib_con.png)"
   ]
  },
  {
   "cell_type": "markdown",
   "metadata": {},
   "source": [
    "***********\n",
    "### Task 2: Add Connection Update for every time step in the simulation\n",
    "\n",
    "To observe what happens in a plugin lets log some data and see how the connection behaves.\n",
    "\n",
    "**Note: From here onwards we will be only updating the conveyor_belt_plugin.cpp file**\n",
    "\n"
   ]
  },
  {
   "cell_type": "markdown",
   "metadata": {},
   "source": [
    "---\n",
    "####  Task 2.1: Add event pointer to class\n",
    "\n",
    "Connection to world update event. Callback is called while this is alive. Add the below pointer variable as a public member to the **ConveyorBeltPluginPrivate** class.\n"
   ]
  },
  {
   "cell_type": "code",
   "execution_count": null,
   "metadata": {},
   "outputs": [],
   "source": [
    "gazebo::event::ConnectionPtr update_connection_;"
   ]
  },
  {
   "cell_type": "markdown",
   "metadata": {},
   "source": [
    "---\n",
    "#### Task 2.2: Create a Callback \n",
    "\n",
    "1. This callback function will  perform some task on update from the Gazebo world. Declare the method as a public method of the **ConveyorBeltPluginPrivate** class."
   ]
  },
  {
   "cell_type": "code",
   "execution_count": null,
   "metadata": {},
   "outputs": [],
   "source": [
    "void OnUpdate();"
   ]
  },
  {
   "cell_type": "markdown",
   "metadata": {},
   "source": [
    "2. Add the method implementation to the code."
   ]
  },
  {
   "cell_type": "code",
   "execution_count": null,
   "metadata": {},
   "outputs": [],
   "source": [
    "void ConveyorBeltPluginPrivate::OnUpdate()\n",
    "{\n",
    "\n",
    "  std::cout<<CYAN<<\"Gazebo World Updated\"<<RESET<<std::endl;\n",
    "\n",
    "}"
   ]
  },
  {
   "cell_type": "markdown",
   "metadata": {},
   "source": [
    "---\n",
    "#### Buiild, Source and Launch"
   ]
  },
  {
   "cell_type": "code",
   "execution_count": null,
   "metadata": {
    "scrolled": true
   },
   "outputs": [],
   "source": [
    "colcon build --packages-select conveyor_belt\n",
    "source install/setup.bash\n",
    "ros2 launch conveyor_belt robot.launch.py"
   ]
  },
  {
   "cell_type": "markdown",
   "metadata": {},
   "source": [
    "\n",
    "**Expected Output**\n",
    "\n",
    "![](images/update_connection.png)"
   ]
  },
  {
   "cell_type": "markdown",
   "metadata": {},
   "source": [
    "**Note: Remove the Gazebo Update logging statement after verification**"
   ]
  },
  {
   "cell_type": "markdown",
   "metadata": {},
   "source": [
    "-----------------\n",
    "### Task 3: Get the Joint from model\n",
    "\n",
    "We have to access the belt joint in order to move the link."
   ]
  },
  {
   "cell_type": "markdown",
   "metadata": {},
   "source": [
    "**Elements in Xacro**\n",
    "\n",
    "Check the **urdf/conveyor_belt.urdf.xacro** file to see the joint tag and it's name as below.\n",
    "\n",
    "```xml\n",
    "<joint\n",
    "    name=\"belt_joint\"\n",
    "    type=\"prismatic\">\n",
    "    <origin\n",
    "      xyz=\"-2.83 0 0.3\"\n",
    "      rpy=\"1.5708 0 0\" />\n",
    "    <parent\n",
    "      link=\"base_link\" />\n",
    "    <child\n",
    "      link=\"belt_link\" />\n",
    "    <axis\n",
    "      xyz=\"-1 0 0\" />\n",
    "    <limit\n",
    "      lower=\"0\"\n",
    "      upper=\"0.01\"\n",
    "      effort=\"0\"\n",
    "      velocity=\"10\" />\n",
    "  </joint>\n",
    "```"
   ]
  },
  {
   "cell_type": "markdown",
   "metadata": {},
   "source": [
    "---\n",
    "#### Task 3.1: Add Joint Pointer\n",
    "\n",
    "The joint pointer is a variable that points to a specific joint from the SDF.\n",
    "\n",
    "1. Declare the public member variable in the **ConveyorBeltPluginPrivate** class."
   ]
  },
  {
   "cell_type": "code",
   "execution_count": null,
   "metadata": {},
   "outputs": [],
   "source": [
    "gazebo::physics::JointPtr belt_joint_;"
   ]
  },
  {
   "cell_type": "markdown",
   "metadata": {},
   "source": [
    "---\n",
    "#### Task 3.2: Fetch and Verify the Joint\n",
    "\n",
    "1. Get the joint from the model using joint name as mentioned in XACRO.\n",
    "2. Add an exception handler to stop the plugin incase the joint is not found.\n",
    "\n",
    "Add the blow code to the **ConveyorBeltPlugin::Load** method."
   ]
  },
  {
   "cell_type": "code",
   "execution_count": null,
   "metadata": {},
   "outputs": [],
   "source": [
    "impl_->belt_joint_ = model->GetJoint(\"belt_joint\");\n",
    "\n",
    "if (!impl_->belt_joint_) {\n",
    "    std::cout<<RED<< \"Belt joint not found, unable to start conveyor plugin\"<<RESET<<std::endl;\n",
    "    return;\n",
    "}\n",
    "else {\n",
    "    std::cout <<GREEN<<\"Belt joint found.\" << RESET <<std::endl;\n",
    "}"
   ]
  },
  {
   "cell_type": "markdown",
   "metadata": {},
   "source": [
    "---\n",
    "#### Buiild, Source and Launch"
   ]
  },
  {
   "cell_type": "code",
   "execution_count": null,
   "metadata": {
    "scrolled": true
   },
   "outputs": [],
   "source": [
    "colcon build --packages-select conveyor_belt\n",
    "source install/setup.bash\n",
    "ros2 launch conveyor_belt robot.launch.py"
   ]
  },
  {
   "cell_type": "markdown",
   "metadata": {},
   "source": [
    "\n",
    "**Expected Output**\n",
    "\n",
    "![](images/belt_joint.png)"
   ]
  },
  {
   "cell_type": "markdown",
   "metadata": {},
   "source": [
    "------------------------\n",
    "### Task 4: Access values from URDF/SDF file of the model\n",
    "\n",
    "In some cases we require information from the plugin passed as parameters such as wheel diameters, wheel base length, contant values for calculations, etc.\n"
   ]
  },
  {
   "cell_type": "markdown",
   "metadata": {},
   "source": [
    "#### Xacro Snippet\n",
    "\n",
    "1. We have some data embedded into our XACRO files like the limits of joints\n",
    "\n",
    "```xml\n",
    "<!-- Belt Joint -->\n",
    "<joint\n",
    "    name=\"belt_joint\"\n",
    "    type=\"prismatic\">\n",
    "    <origin\n",
    "      xyz=\"-2.83 0 0.3\"\n",
    "      rpy=\"1.5708 0 0\" />\n",
    "    <parent\n",
    "      link=\"base_link\" />\n",
    "    <child\n",
    "      link=\"belt_link\" />\n",
    "    <axis\n",
    "      xyz=\"-1 0 0\" />\n",
    "    <limit\n",
    "      lower=\"0\"\n",
    "      upper=\"0.01\"\n",
    "      effort=\"0\"\n",
    "      velocity=\"10\" />\n",
    "  </joint>\n",
    "```\n",
    "\n",
    "2. Also we can pass parameters to our plugin from the xacro.\n",
    "\n",
    "```xml\n",
    "<!-- Plugin Attribute -->\n",
    "\n",
    "<gazebo>\n",
    "  <plugin filename=\"libconveyor_belt_plugin.so\" name=\"conveyor_belt_plugin\">\n",
    "        <max_velocity>0.3</max_velocity> \n",
    "  </plugin>\n",
    "</gazebo>\n",
    "\n",
    "```"
   ]
  },
  {
   "cell_type": "markdown",
   "metadata": {},
   "source": [
    "---\n",
    "#### Task 4.1: Add memeber variables to store data\n",
    "\n",
    "1. Declare public methods to the **ConveyorBeltPluginPrivate** class"
   ]
  },
  {
   "cell_type": "code",
   "execution_count": null,
   "metadata": {},
   "outputs": [],
   "source": [
    "// Initial velocity of belt\n",
    "double belt_velocity_= 0.5;\n",
    "    \n",
    "// Variable to store the max velocity from SDF\n",
    "double max_velocity_;\n",
    "\n",
    "/// Position limit of belt joint to reset (Get it from SDF)\n",
    "double limit_;"
   ]
  },
  {
   "cell_type": "markdown",
   "metadata": {},
   "source": [
    "---\n",
    "#### Task 4.2: Get the details from the joint.\n",
    "\n",
    "We use the **UpperLimit** method to get the joint limit. Add the below code to the **ConveyorBeltPluginPrivate::Load** method"
   ]
  },
  {
   "cell_type": "code",
   "execution_count": null,
   "metadata": {},
   "outputs": [],
   "source": [
    "impl_->limit_ = impl_->belt_joint_->UpperLimit();\n",
    "std::cout << PURPLE << \"Max Joint Limit: \"<<impl_->limit_<<RESET<<std::endl;"
   ]
  },
  {
   "cell_type": "markdown",
   "metadata": {},
   "source": [
    "---\n",
    "#### Task 4.3: Get the parameters from the plugin\n",
    "\n",
    "We use the **GetElement** method to get the **max_velocity** parameter.  Add the below code to the **ConveyorBeltPluginPrivate::Load** method"
   ]
  },
  {
   "cell_type": "code",
   "execution_count": null,
   "metadata": {},
   "outputs": [],
   "source": [
    "impl_->max_velocity_ = sdf->GetElement(\"max_velocity\")->Get<double>();\n",
    "std::cout<< PURPLE << \"Max Velocity: \"<<impl_->max_velocity_ <<RESET<<std::endl;"
   ]
  },
  {
   "cell_type": "markdown",
   "metadata": {},
   "source": [
    "---\n",
    "#### Buiild, Source and Launch"
   ]
  },
  {
   "cell_type": "code",
   "execution_count": null,
   "metadata": {
    "scrolled": true
   },
   "outputs": [],
   "source": [
    "colcon build --packages-select conveyor_belt\n",
    "source install/setup.bash\n",
    "ros2 launch conveyor_belt robot.launch.py"
   ]
  },
  {
   "cell_type": "markdown",
   "metadata": {},
   "source": [
    "\n",
    "**Expected Output**\n",
    "\n",
    "![](images/max_vel_limit.png)"
   ]
  },
  {
   "cell_type": "markdown",
   "metadata": {},
   "source": [
    "---\n",
    "### Task 5: Move the joints\n",
    "\n",
    "We can now add the actual conveyor bel functionality to our plugin. We utlize all the information we get from the model and parameter.\n",
    "1. Set the belt velocity to some value.\n",
    "2. Check the belt joint position at each time step.\n",
    "3. Set the position to 0 if the joint reached its limit.\n",
    "\n",
    "Add the below code to the **ConveyorBeltPluginPrivate::OnUpdate** method."
   ]
  },
  {
   "cell_type": "code",
   "execution_count": null,
   "metadata": {},
   "outputs": [],
   "source": [
    "belt_joint_->SetVelocity(0, belt_velocity_);\n",
    "\n",
    "double belt_position = belt_joint_->Position(0);\n",
    "\n",
    "if (belt_position >= limit_){\n",
    "    belt_joint_->SetPosition(0, 0);\n",
    "}"
   ]
  },
  {
   "cell_type": "markdown",
   "metadata": {},
   "source": [
    "##### Buiild, Source and Launch"
   ]
  },
  {
   "cell_type": "code",
   "execution_count": null,
   "metadata": {
    "scrolled": true
   },
   "outputs": [],
   "source": [
    "colcon build --packages-select conveyor_belt\n",
    "source install/setup.bash\n",
    "ros2 launch conveyor_belt robot.launch.py"
   ]
  },
  {
   "cell_type": "markdown",
   "metadata": {},
   "source": [
    "\n",
    "**Expected Output**![](images/conveyor.gif)"
   ]
  },
  {
   "cell_type": "markdown",
   "metadata": {},
   "source": [
    "--------------------\n",
    "### Task 6: Adding ROS functionality\n",
    "\n",
    "We often use Gazebo plugins in tandem with ROS so it is essential for us to understand how to add ROS functionalities into these plugins\n"
   ]
  },
  {
   "cell_type": "markdown",
   "metadata": {},
   "source": [
    "---\n",
    "#### Task 6.1: Member Declaration\n",
    "\n",
    "1. Declare ROS node.\n",
    "2. Declare a Subscriber\n",
    "3. Declare the callback method\n",
    "\n",
    "Add the following code to the **ConveyorBeltPluginPrivate** class."
   ]
  },
  {
   "cell_type": "code",
   "execution_count": null,
   "metadata": {},
   "outputs": [],
   "source": [
    "gazebo_ros::Node::SharedPtr ros_node_;\n",
    "\n",
    "rclcpp::Subscription<std_msgs::msg::Bool>::SharedPtr power_subscriber;\n",
    "\n",
    "void OnPower(const std_msgs::msg::Bool::SharedPtr msg);"
   ]
  },
  {
   "cell_type": "markdown",
   "metadata": {},
   "source": [
    "---\n",
    "#### Task 6.2: Initialize the node and subscriber\n",
    "\n",
    "Add the following code to the **ConveyorBeltPlugin::Load** method"
   ]
  },
  {
   "cell_type": "code",
   "execution_count": null,
   "metadata": {},
   "outputs": [],
   "source": [
    "// Create ROS node\n",
    "impl_->ros_node_ = gazebo_ros::Node::Get(sdf);\n",
    "\n",
    "// Add callback to subscriber\n",
    "impl_->power_subscriber = impl_->ros_node_->create_subscription<std_msgs::msg::Bool>(\"conveyor_power\", \n",
    "10, std::bind(&ConveyorBeltPluginPrivate::OnPower, impl_.get(), std::placeholders::_1));"
   ]
  },
  {
   "cell_type": "markdown",
   "metadata": {},
   "source": [
    "---\n",
    "#### Task 6.3: Add the callback declaration\n",
    "\n",
    "Add the following code to the **ConveyorBeltPluginPrivate** class"
   ]
  },
  {
   "cell_type": "code",
   "execution_count": null,
   "metadata": {},
   "outputs": [],
   "source": [
    "void ConveyorBeltPluginPrivate::OnPower(const std_msgs::msg::Bool::SharedPtr msg)\n",
    "{\n",
    "  if (msg->data == false){\n",
    "    belt_velocity_ = 0;\n",
    "    std::cout<<RED << \"Conveyor Belt Powered Off\"<<RESET<<std::endl;\n",
    "  }\n",
    "  else{\n",
    "    belt_velocity_ = max_velocity_;\n",
    "    std::cout<<GREEN << \"Conveyor Belt Powered On\"<<RESET<<std::endl;\n",
    "\n",
    "  }\n",
    "}"
   ]
  },
  {
   "cell_type": "markdown",
   "metadata": {},
   "source": [
    "---\n",
    "#### Buiild, Source and Launch"
   ]
  },
  {
   "cell_type": "code",
   "execution_count": null,
   "metadata": {
    "scrolled": true
   },
   "outputs": [],
   "source": [
    "colcon build --packages-select conveyor_belt\n",
    "source install/setup.bash\n",
    "ros2 launch conveyor_belt robot.launch.py"
   ]
  },
  {
   "cell_type": "markdown",
   "metadata": {},
   "source": [
    "---\n",
    "### Testing\n",
    "\n",
    "\n",
    "0. ROS Topic Check"
   ]
  },
  {
   "cell_type": "code",
   "execution_count": null,
   "metadata": {},
   "outputs": [],
   "source": [
    "ros2 topic list"
   ]
  },
  {
   "cell_type": "markdown",
   "metadata": {},
   "source": [
    "**Expected Output**\n",
    "\n",
    "![](images/topic_list.png)\n",
    "\n",
    "\n",
    "1. Turn Off the Power"
   ]
  },
  {
   "cell_type": "code",
   "execution_count": null,
   "metadata": {},
   "outputs": [],
   "source": [
    "ros2 topic pub /conveyor_power std_msgs/msg/Bool  '{data: false}' -1"
   ]
  },
  {
   "cell_type": "markdown",
   "metadata": {},
   "source": [
    "2. Turn On the Power\n"
   ]
  },
  {
   "cell_type": "code",
   "execution_count": null,
   "metadata": {},
   "outputs": [],
   "source": [
    "ros2 topic pub /conveyor_power std_msgs/msg/Bool  '{data: true}' -1"
   ]
  },
  {
   "cell_type": "markdown",
   "metadata": {},
   "source": [
    "**Expected Ouptut**\n",
    "\n",
    "![](images/on_belt.png)"
   ]
  },
  {
   "cell_type": "markdown",
   "metadata": {},
   "source": [
    "---\n",
    "### Future Work\n",
    "\n",
    "1. Create the same thing for Gazebo Sim\n",
    "2. Create other plugins such as Sensor or World"
   ]
  },
  {
   "cell_type": "markdown",
   "metadata": {},
   "source": [
    "![](images/drone3.gif)"
   ]
  },
  {
   "cell_type": "code",
   "execution_count": null,
   "metadata": {},
   "outputs": [],
   "source": []
  }
 ],
 "metadata": {
  "kernelspec": {
   "display_name": "Python 2",
   "language": "python",
   "name": "python2"
  },
  "language_info": {
   "codemirror_mode": {
    "name": "ipython",
    "version": 2
   },
   "file_extension": ".py",
   "mimetype": "text/x-python",
   "name": "python",
   "nbconvert_exporter": "python",
   "pygments_lexer": "ipython2",
   "version": "2.7.16"
  }
 },
 "nbformat": 4,
 "nbformat_minor": 1
}
